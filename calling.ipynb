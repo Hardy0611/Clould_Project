{
 "cells": [
  {
   "cell_type": "code",
   "execution_count": 53,
   "metadata": {},
   "outputs": [],
   "source": [
    "import requests\n",
    "import numpy as np"
   ]
  },
  {
   "cell_type": "code",
   "execution_count": 57,
   "metadata": {},
   "outputs": [
    {
     "data": {
      "text/plain": [
       "(1, 18, 18, 32)"
      ]
     },
     "execution_count": 57,
     "metadata": {},
     "output_type": "execute_result"
    }
   ],
   "source": [
    "data = np.load(\"data/test_data/stage_4.npy\")\n",
    "string_data = str(data.tolist())\n",
    "data.shape"
   ]
  },
  {
   "cell_type": "code",
   "execution_count": 58,
   "metadata": {},
   "outputs": [],
   "source": [
    "payload = {'input': string_data, 'stage': 4}\n",
    "header = {'Content-Type': 'application/json'}\n",
    "\n",
    "requests.get(\"https://nxrqlgpnzzzh3vgkxhvy37asde0atgvb.lambda-url.us-east-1.on.aws/\")\n",
    "res = requests.post(\"https://nxrqlgpnzzzh3vgkxhvy37asde0atgvb.lambda-url.us-east-1.on.aws/\", headers=header, json=payload)"
   ]
  },
  {
   "cell_type": "code",
   "execution_count": 56,
   "metadata": {},
   "outputs": [
    {
     "data": {
      "text/plain": [
       "{'emotion': 'Happy',\n",
       " 'response': 200,\n",
       " 'predictions': '[[0.22934666275978088, 0.002538081258535385, 0.053890522569417953, 0.6922323703765869, 0.0030627790838479996, 0.016718443483114243, 0.0022112512961030006]]',\n",
       " 'labels': ['Angry',\n",
       "  'Disgusted',\n",
       "  'Fear',\n",
       "  'Happy',\n",
       "  'Sad',\n",
       "  'Surprise',\n",
       "  'Neutral']}"
      ]
     },
     "execution_count": 56,
     "metadata": {},
     "output_type": "execute_result"
    }
   ],
   "source": [
    "res.json()"
   ]
  }
 ],
 "metadata": {
  "kernelspec": {
   "display_name": "tf",
   "language": "python",
   "name": "python3"
  },
  "language_info": {
   "codemirror_mode": {
    "name": "ipython",
    "version": 3
   },
   "file_extension": ".py",
   "mimetype": "text/x-python",
   "name": "python",
   "nbconvert_exporter": "python",
   "pygments_lexer": "ipython3",
   "version": "3.10.6"
  }
 },
 "nbformat": 4,
 "nbformat_minor": 2
}
